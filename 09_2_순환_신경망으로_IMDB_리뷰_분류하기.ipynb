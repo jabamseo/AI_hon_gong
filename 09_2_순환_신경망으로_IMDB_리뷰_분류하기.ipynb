{
  "nbformat": 4,
  "nbformat_minor": 0,
  "metadata": {
    "colab": {
      "provenance": []
    },
    "kernelspec": {
      "name": "python3",
      "display_name": "Python 3"
    },
    "language_info": {
      "name": "python"
    }
  },
  "cells": [
    {
      "cell_type": "markdown",
      "source": [
        "# 09-2 순환 신경망으로 IMDB 리뷰 분류하기\n",
        "텐서플로를 사용해 순환 신경망을 만들어 영화 리뷰 데이터셋에 적용해서 리뷰를 긍정과 부정으로 분류한다."
      ],
      "metadata": {
        "id": "flLp-xqv2tB_"
      }
    },
    {
      "cell_type": "markdown",
      "source": [
        "## IMDB 리뷰 데이터셋\n",
        "\n",
        "텍스트 데이터의 경우 단어를 숫자 데이터로 바꾸는 일반적인 방법은 데이터에 등장하는 단어마다 고유한 정수를 부여하는 것이다.\n",
        "\n",
        "단어에 매핑되는 정수는 단어의 의미나 크기와 무관하다. 예를 들어 'He'를 10으로 매핑하고 'cat'을 13에 매핑하더라도 'cat'이 'He'보다 좋거나 크다는 뜻이 아니다.\n",
        "\n",
        "일반적으로 영어 문장은 모두 소문자로 바꾸고 구둣점을 삭제한 다음 공백을 기준으로 분리한다. 이렇게 분리된 단어를 토큰이라고 부른다. 하나의 샘플은 여러 개의 토큰으로 이루어져 있고 1개의 토큰이 하나의 타임스탬프에 해당한다."
      ],
      "metadata": {
        "id": "MSRTgmN9220_"
      }
    },
    {
      "cell_type": "markdown",
      "source": [
        "실제 IMDB 리뷰 데이터셋은 영어 문장이지만, 텐서플로에는 이미 정수로 변환된 데이터가 포함되어 있다."
      ],
      "metadata": {
        "id": "HNroxEtoeNPS"
      }
    },
    {
      "cell_type": "code",
      "source": [
        "from tensorflow.keras.datasets import imdb\n",
        "(train_input, train_target), (test_input, test_target) = imdb.load_data(num_words=500)"
      ],
      "metadata": {
        "colab": {
          "base_uri": "https://localhost:8080/"
        },
        "id": "3UVdJEFgeXG1",
        "outputId": "b00635cd-abe5-4ce1-b437-19cd8fd49c85"
      },
      "execution_count": 1,
      "outputs": [
        {
          "output_type": "stream",
          "name": "stdout",
          "text": [
            "Downloading data from https://storage.googleapis.com/tensorflow/tf-keras-datasets/imdb.npz\n",
            "17464789/17464789 [==============================] - 0s 0us/step\n"
          ]
        }
      ]
    },
    {
      "cell_type": "code",
      "source": [
        "print(train_input.shape, test_input.shape)\n",
        "# 1차원 배열\n",
        "# 리뷰 텍스트를 고정 크기의 2차원 배열에 담지 않고 리뷰마다 별도의 파이썬 리스트로 담아 메모리 효율성을 높임."
      ],
      "metadata": {
        "colab": {
          "base_uri": "https://localhost:8080/"
        },
        "id": "7AKa6Hf9ehul",
        "outputId": "5f224b5b-212f-46dc-af3f-473afc88949f"
      },
      "execution_count": 2,
      "outputs": [
        {
          "output_type": "stream",
          "name": "stdout",
          "text": [
            "(25000,) (25000,)\n"
          ]
        }
      ]
    },
    {
      "cell_type": "code",
      "source": [
        "print(len(train_input[0]), len(train_input[1]))\n",
        "# 리뷰마다 길이가 다름"
      ],
      "metadata": {
        "colab": {
          "base_uri": "https://localhost:8080/"
        },
        "id": "88VEl3wte8zN",
        "outputId": "c5deb5fa-e7fc-46ea-d9bf-e54a77d57560"
      },
      "execution_count": 3,
      "outputs": [
        {
          "output_type": "stream",
          "name": "stdout",
          "text": [
            "218 189\n"
          ]
        }
      ]
    },
    {
      "cell_type": "code",
      "source": [
        "print(train_input[0])\n",
        "# 어휘 사전에는 500개의 단어만 들어가 있으며, 어휘 사전에 없는 단어는 모두 2로 표시\n",
        "# 500개의 단어는 등장 횟수가 많은 상위 500개만 선정"
      ],
      "metadata": {
        "colab": {
          "base_uri": "https://localhost:8080/"
        },
        "id": "medKDeEgfFaM",
        "outputId": "052bf4c4-46d3-48d0-83c4-96cabaea2f7f"
      },
      "execution_count": 4,
      "outputs": [
        {
          "output_type": "stream",
          "name": "stdout",
          "text": [
            "[1, 14, 22, 16, 43, 2, 2, 2, 2, 65, 458, 2, 66, 2, 4, 173, 36, 256, 5, 25, 100, 43, 2, 112, 50, 2, 2, 9, 35, 480, 284, 5, 150, 4, 172, 112, 167, 2, 336, 385, 39, 4, 172, 2, 2, 17, 2, 38, 13, 447, 4, 192, 50, 16, 6, 147, 2, 19, 14, 22, 4, 2, 2, 469, 4, 22, 71, 87, 12, 16, 43, 2, 38, 76, 15, 13, 2, 4, 22, 17, 2, 17, 12, 16, 2, 18, 2, 5, 62, 386, 12, 8, 316, 8, 106, 5, 4, 2, 2, 16, 480, 66, 2, 33, 4, 130, 12, 16, 38, 2, 5, 25, 124, 51, 36, 135, 48, 25, 2, 33, 6, 22, 12, 215, 28, 77, 52, 5, 14, 407, 16, 82, 2, 8, 4, 107, 117, 2, 15, 256, 4, 2, 7, 2, 5, 2, 36, 71, 43, 2, 476, 26, 400, 317, 46, 7, 4, 2, 2, 13, 104, 88, 4, 381, 15, 297, 98, 32, 2, 56, 26, 141, 6, 194, 2, 18, 4, 226, 22, 21, 134, 476, 26, 480, 5, 144, 30, 2, 18, 51, 36, 28, 224, 92, 25, 104, 4, 226, 65, 16, 38, 2, 88, 12, 16, 283, 5, 16, 2, 113, 103, 32, 15, 16, 2, 19, 178, 32]\n"
          ]
        }
      ]
    },
    {
      "cell_type": "code",
      "source": [
        "print(train_target[:20])\n",
        "# 0 : 부정, 1 : 긍정"
      ],
      "metadata": {
        "colab": {
          "base_uri": "https://localhost:8080/"
        },
        "id": "LF9BauHbfWxd",
        "outputId": "7af8c21b-8f67-418f-88b4-fcf87063959b"
      },
      "execution_count": 5,
      "outputs": [
        {
          "output_type": "stream",
          "name": "stdout",
          "text": [
            "[1 0 0 1 0 0 1 0 1 0 1 0 0 0 0 0 1 1 0 1]\n"
          ]
        }
      ]
    },
    {
      "cell_type": "code",
      "source": [
        "from sklearn.model_selection import train_test_split\n",
        "train_input, val_input, train_target, val_target = train_test_split(\n",
        "    train_input, train_target, test_size=0.2, random_state=42\n",
        ")"
      ],
      "metadata": {
        "id": "4CDrOQsxfdGU"
      },
      "execution_count": 6,
      "outputs": []
    },
    {
      "cell_type": "code",
      "source": [
        "import numpy as np\n",
        "lengths = np.array([len(x) for x in train_input])\n",
        "\n",
        "print(np.mean(lengths), np.median(lengths))\n",
        "# 리뷰의 평균 단어 개수와 중간값 확인"
      ],
      "metadata": {
        "colab": {
          "base_uri": "https://localhost:8080/"
        },
        "id": "yj-QXRnFfu4N",
        "outputId": "e71364c2-1ea8-44d4-cdbc-2bece1bece98"
      },
      "execution_count": 7,
      "outputs": [
        {
          "output_type": "stream",
          "name": "stdout",
          "text": [
            "239.00925 178.0\n"
          ]
        }
      ]
    },
    {
      "cell_type": "code",
      "source": [
        "import matplotlib.pyplot as plt\n",
        "plt.hist(lengths)\n",
        "plt.xlabel('length')\n",
        "plt.ylabel('frequency')\n",
        "plt.show()"
      ],
      "metadata": {
        "colab": {
          "base_uri": "https://localhost:8080/",
          "height": 279
        },
        "id": "NKHjHHUlgAD8",
        "outputId": "30308f42-0d69-4e2d-981d-52fe08d35038"
      },
      "execution_count": 8,
      "outputs": [
        {
          "output_type": "display_data",
          "data": {
            "text/plain": [
              "<Figure size 432x288 with 1 Axes>"
            ],
            "image/png": "[encoded data removed]"
          },
          "metadata": {
            "needs_background": "light"
          }
        }
      ]
    },
    {
      "cell_type": "code",
      "source": [
        "from tensorflow.keras.preprocessing.sequence import pad_sequences\n",
        "train_seq = pad_sequences(train_input, maxlen=100)\n",
        "# pad_sequences() : 시퀀스 데이터의 길이를 맞춤\n",
        "# maxlen보다 길면 잘라내고, 짧으면 0으로 패딩\n",
        "\n",
        "print(train_seq.shape)"
      ],
      "metadata": {
        "colab": {
          "base_uri": "https://localhost:8080/"
        },
        "id": "S26nKeVXgODc",
        "outputId": "626d18b0-bd1b-47fa-ee2c-e2fe2c8a9648"
      },
      "execution_count": 10,
      "outputs": [
        {
          "output_type": "stream",
          "name": "stdout",
          "text": [
            "(20000, 100)\n"
          ]
        }
      ]
    },
    {
      "cell_type": "code",
      "source": [
        "print(train_seq[0])\n",
        "# 앞뒤에 패딩값 0이 없기에 샘플의 길이가 100보다 길었을 것이다."
      ],
      "metadata": {
        "colab": {
          "base_uri": "https://localhost:8080/"
        },
        "id": "28_IO2GygkgU",
        "outputId": "dd889d62-42d9-45ce-fb77-de3f4d246561"
      },
      "execution_count": 11,
      "outputs": [
        {
          "output_type": "stream",
          "name": "stdout",
          "text": [
            "[ 10   4  20   9   2 364 352   5  45   6   2   2  33 269   8   2 142   2\n",
            "   5   2  17  73  17 204   5   2  19  55   2   2  92  66 104  14  20  93\n",
            "  76   2 151  33   4  58  12 188   2 151  12 215  69 224 142  73 237   6\n",
            "   2   7   2   2 188   2 103  14  31  10  10 451   7   2   5   2  80  91\n",
            "   2  30   2  34  14  20 151  50  26 131  49   2  84  46  50  37  80  79\n",
            "   6   2  46   7  14  20  10  10 470 158]\n"
          ]
        }
      ]
    },
    {
      "cell_type": "code",
      "source": [
        "print(train_input[0][-10:])\n",
        "# 마지막 10개의 토큰 출력값. 이는 샘플 앞부분이 잘렸음을 시사\n",
        "# 뒷부분을 자르고 싶다면 pad_sequences()의 truncating 매개변수의 값을 pre가 아닌 post로 바꾸면 된다."
      ],
      "metadata": {
        "colab": {
          "base_uri": "https://localhost:8080/"
        },
        "id": "17vuvqJMgJLM",
        "outputId": "ad812368-da17-4036-ae71-5ab5cbe298d5"
      },
      "execution_count": 13,
      "outputs": [
        {
          "output_type": "stream",
          "name": "stdout",
          "text": [
            "[6, 2, 46, 7, 14, 20, 10, 10, 470, 158]\n"
          ]
        }
      ]
    },
    {
      "cell_type": "code",
      "source": [
        "print(train_seq[5])\n",
        "# 앞에 패딩값 0이 있기에 샘플의 길이가 100보다 짧았을 것이다."
      ],
      "metadata": {
        "colab": {
          "base_uri": "https://localhost:8080/"
        },
        "id": "pfHu5C5JhESj",
        "outputId": "dcdcc7dd-083a-4448-f240-66f9241ac485"
      },
      "execution_count": 14,
      "outputs": [
        {
          "output_type": "stream",
          "name": "stdout",
          "text": [
            "[  0   0   0   0   1   2 195  19  49   2   2 190   4   2 352   2 183  10\n",
            "  10  13  82  79   4   2  36  71 269   8   2  25  19  49   7   4   2   2\n",
            "   2   2   2  10  10  48  25  40   2  11   2   2  40   2   2   5   4   2\n",
            "   2  95  14 238  56 129   2  10  10  21   2  94 364 352   2   2  11 190\n",
            "  24 484   2   7  94 205 405  10  10  87   2  34  49   2   7   2   2   2\n",
            "   2   2 290   2  46  48  64  18   4   2]\n"
          ]
        }
      ]
    },
    {
      "cell_type": "code",
      "source": [
        "val_seq = pad_sequences(val_input, maxlen=100)\n",
        "# 검증 세트의 길이도 100으로 맞춤"
      ],
      "metadata": {
        "id": "5Awg4hdGhQyL"
      },
      "execution_count": 15,
      "outputs": []
    },
    {
      "cell_type": "markdown",
      "source": [
        "## 순환 신경망 만들기\n"
      ],
      "metadata": {
        "id": "QwPNi3nK4h7P"
      }
    },
    {
      "cell_type": "code",
      "source": [
        "from tensorflow import keras\n",
        "model = keras.Sequential()\n",
        "model.add(keras.layers.SimpleRNN(8, input_shape=(100,500)))\n",
        "model.add(keras.layers.Dense(1, activation='sigmoid'))\n",
        "# (100,500) = (샘플의 길이, 배열의 길이)\n",
        "# imdb.load_data() 함수에서 500개의 단어만 사용하도록 지정했기에 고유한 단어는 모두 500개\n",
        "# 훈련 데이터에 포함될 수 있는 정숫값의 범위는 0~499, 이 범위를 원-핫 인코딩으로 표현하려면 배열의 길이가 500"
      ],
      "metadata": {
        "id": "nndCEGQwhbxL"
      },
      "execution_count": 18,
      "outputs": []
    },
    {
      "cell_type": "code",
      "source": [
        "train_oh = keras.utils.to_categorical(train_seq)\n",
        "# 원-핫 인코딩을 위한 유틸리티\n",
        "\n",
        "print(train_oh.shape)"
      ],
      "metadata": {
        "colab": {
          "base_uri": "https://localhost:8080/"
        },
        "id": "vFX_LRQtiL7L",
        "outputId": "a38ee629-a87c-42c5-bdf7-e5a46cc8f775"
      },
      "execution_count": 19,
      "outputs": [
        {
          "output_type": "stream",
          "name": "stdout",
          "text": [
            "(20000, 100, 500)\n"
          ]
        }
      ]
    },
    {
      "cell_type": "code",
      "source": [
        "print(train_oh[0][0][:12])\n",
        "# train_oh의 첫 번째 샘플의 첫 번째 토큰 10이 잘 인코딩되었는지 확인"
      ],
      "metadata": {
        "colab": {
          "base_uri": "https://localhost:8080/"
        },
        "id": "_vBQmDHkiWzM",
        "outputId": "9b1819b1-b11d-4466-a65e-ca2441150ff9"
      },
      "execution_count": 20,
      "outputs": [
        {
          "output_type": "stream",
          "name": "stdout",
          "text": [
            "[0. 0. 0. 0. 0. 0. 0. 0. 0. 0. 1. 0.]\n"
          ]
        }
      ]
    },
    {
      "cell_type": "code",
      "source": [
        "print(np.sum(train_oh[0][0]))\n",
        "# 11번째 원소만 1이고, 나머지는 0이어서 원-핫 인코딩된 배열의 값을 모두 더한 결과는 1"
      ],
      "metadata": {
        "colab": {
          "base_uri": "https://localhost:8080/"
        },
        "id": "ZWqPEXkWih47",
        "outputId": "b1c3b160-196a-42e2-aaa6-b2999a62a61a"
      },
      "execution_count": 21,
      "outputs": [
        {
          "output_type": "stream",
          "name": "stdout",
          "text": [
            "1.0\n"
          ]
        }
      ]
    },
    {
      "cell_type": "code",
      "source": [
        "val_oh = keras.utils.to_categorical(val_seq)"
      ],
      "metadata": {
        "id": "7SCTHL5Riwdb"
      },
      "execution_count": 22,
      "outputs": []
    },
    {
      "cell_type": "code",
      "source": [
        "model.summary()"
      ],
      "metadata": {
        "colab": {
          "base_uri": "https://localhost:8080/"
        },
        "id": "KNFPyZ0Pi2gL",
        "outputId": "bf9d6aaa-bfb6-4d8a-b063-9b3ae099af0c"
      },
      "execution_count": 23,
      "outputs": [
        {
          "output_type": "stream",
          "name": "stdout",
          "text": [
            "Model: \"sequential\"\n",
            "_________________________________________________________________\n",
            " Layer (type)                Output Shape              Param #   \n",
            "=================================================================\n",
            " simple_rnn (SimpleRNN)      (None, 8)                 4072      \n",
            "                                                                 \n",
            " dense (Dense)               (None, 1)                 9         \n",
            "                                                                 \n",
            "=================================================================\n",
            "Total params: 4,081\n",
            "Trainable params: 4,081\n",
            "Non-trainable params: 0\n",
            "_________________________________________________________________\n"
          ]
        }
      ]
    },
    {
      "cell_type": "markdown",
      "source": [
        "## 순환 신경망 훈련하기"
      ],
      "metadata": {
        "id": "oICzbWLQi4-z"
      }
    },
    {
      "cell_type": "code",
      "source": [
        "rmsprop = keras.optimizers.RMSprop(learning_rate=1e-4)\n",
        "model.compile(optimizer=rmsprop, loss='binary_crossentropy', metrics=['accuracy'])\n",
        "checkpoint_cb = keras.callbacks.ModelCheckpoint('best-simplernn-model.h5')\n",
        "early_stopping_cb = keras.callbacks.EarlyStopping(patience=3, restore_best_weights=True)\n",
        "history = model.fit(train_oh, train_target, epochs=100, batch_size=64,\n",
        "                    validation_data=(val_oh, val_target),\n",
        "                    callbacks=[checkpoint_cb, early_stopping_cb])"
      ],
      "metadata": {
        "colab": {
          "base_uri": "https://localhost:8080/"
        },
        "id": "ZrkfPynfi6ZL",
        "outputId": "7e02720e-2b78-4e24-92b7-3ae960b14a3a"
      },
      "execution_count": 24,
      "outputs": [
        {
          "output_type": "stream",
          "name": "stdout",
          "text": [
            "Epoch 1/100\n",
            "313/313 [==============================] - 9s 25ms/step - loss: 0.6955 - accuracy: 0.5096 - val_loss: 0.6913 - val_accuracy: 0.5290\n",
            "Epoch 2/100\n",
            "313/313 [==============================] - 7s 23ms/step - loss: 0.6754 - accuracy: 0.5873 - val_loss: 0.6668 - val_accuracy: 0.6080\n",
            "Epoch 3/100\n",
            "313/313 [==============================] - 7s 22ms/step - loss: 0.6531 - accuracy: 0.6380 - val_loss: 0.6486 - val_accuracy: 0.6454\n",
            "Epoch 4/100\n",
            "313/313 [==============================] - 9s 30ms/step - loss: 0.6326 - accuracy: 0.6729 - val_loss: 0.6294 - val_accuracy: 0.6770\n",
            "Epoch 5/100\n",
            "313/313 [==============================] - 14s 45ms/step - loss: 0.6123 - accuracy: 0.6981 - val_loss: 0.6095 - val_accuracy: 0.7014\n",
            "Epoch 6/100\n",
            "313/313 [==============================] - 12s 38ms/step - loss: 0.5926 - accuracy: 0.7189 - val_loss: 0.5945 - val_accuracy: 0.7124\n",
            "Epoch 7/100\n",
            "313/313 [==============================] - 11s 37ms/step - loss: 0.5737 - accuracy: 0.7351 - val_loss: 0.5744 - val_accuracy: 0.7300\n",
            "Epoch 8/100\n",
            "313/313 [==============================] - 11s 35ms/step - loss: 0.5576 - accuracy: 0.7459 - val_loss: 0.5609 - val_accuracy: 0.7368\n",
            "Epoch 9/100\n",
            "313/313 [==============================] - 10s 31ms/step - loss: 0.5421 - accuracy: 0.7576 - val_loss: 0.5470 - val_accuracy: 0.7466\n",
            "Epoch 10/100\n",
            "313/313 [==============================] - 7s 23ms/step - loss: 0.5281 - accuracy: 0.7634 - val_loss: 0.5351 - val_accuracy: 0.7488\n",
            "Epoch 11/100\n",
            "313/313 [==============================] - 7s 23ms/step - loss: 0.5157 - accuracy: 0.7732 - val_loss: 0.5330 - val_accuracy: 0.7444\n",
            "Epoch 12/100\n",
            "313/313 [==============================] - 7s 23ms/step - loss: 0.5047 - accuracy: 0.7780 - val_loss: 0.5163 - val_accuracy: 0.7582\n",
            "Epoch 13/100\n",
            "313/313 [==============================] - 7s 24ms/step - loss: 0.4944 - accuracy: 0.7836 - val_loss: 0.5110 - val_accuracy: 0.7584\n",
            "Epoch 14/100\n",
            "313/313 [==============================] - 9s 27ms/step - loss: 0.4851 - accuracy: 0.7894 - val_loss: 0.5023 - val_accuracy: 0.7654\n",
            "Epoch 15/100\n",
            "313/313 [==============================] - 8s 27ms/step - loss: 0.4777 - accuracy: 0.7921 - val_loss: 0.4942 - val_accuracy: 0.7708\n",
            "Epoch 16/100\n",
            "313/313 [==============================] - 9s 27ms/step - loss: 0.4702 - accuracy: 0.7952 - val_loss: 0.4878 - val_accuracy: 0.7730\n",
            "Epoch 17/100\n",
            "313/313 [==============================] - 8s 27ms/step - loss: 0.4636 - accuracy: 0.8000 - val_loss: 0.4850 - val_accuracy: 0.7716\n",
            "Epoch 18/100\n",
            "313/313 [==============================] - 9s 29ms/step - loss: 0.4580 - accuracy: 0.8002 - val_loss: 0.4804 - val_accuracy: 0.7804\n",
            "Epoch 19/100\n",
            "313/313 [==============================] - 8s 25ms/step - loss: 0.4522 - accuracy: 0.8046 - val_loss: 0.4765 - val_accuracy: 0.7796\n",
            "Epoch 20/100\n",
            "313/313 [==============================] - 8s 27ms/step - loss: 0.4471 - accuracy: 0.8067 - val_loss: 0.4737 - val_accuracy: 0.7818\n",
            "Epoch 21/100\n",
            "313/313 [==============================] - 8s 26ms/step - loss: 0.4430 - accuracy: 0.8056 - val_loss: 0.4702 - val_accuracy: 0.7840\n",
            "Epoch 22/100\n",
            "313/313 [==============================] - 9s 30ms/step - loss: 0.4385 - accuracy: 0.8091 - val_loss: 0.4704 - val_accuracy: 0.7816\n",
            "Epoch 23/100\n",
            "313/313 [==============================] - 7s 23ms/step - loss: 0.4348 - accuracy: 0.8110 - val_loss: 0.4725 - val_accuracy: 0.7816\n",
            "Epoch 24/100\n",
            "313/313 [==============================] - 7s 23ms/step - loss: 0.4317 - accuracy: 0.8124 - val_loss: 0.4773 - val_accuracy: 0.7726\n"
          ]
        }
      ]
    },
    {
      "cell_type": "code",
      "source": [
        "plt.plot(history.history['loss'])\n",
        "plt.plot(history.history['val_loss'])\n",
        "plt.xlabel('epoch')\n",
        "plt.ylabel('loss')\n",
        "plt.legend(['train', 'val'])\n",
        "plt.show()"
      ],
      "metadata": {
        "colab": {
          "base_uri": "https://localhost:8080/",
          "height": 279
        },
        "id": "8-mrbKmlk_FK",
        "outputId": "4affa5da-fa78-47e3-dc80-dcac6973413f"
      },
      "execution_count": 25,
      "outputs": [
        {
          "output_type": "display_data",
          "data": {
            "text/plain": [
              "<Figure size 432x288 with 1 Axes>"
            ],
            "image/png": "[encoded data removed]"
          },
          "metadata": {
            "needs_background": "light"
          }
        }
      ]
    },
    {
      "cell_type": "markdown",
      "source": [
        "여기서 한 가지 생각할 점이 있는데, 이 작업을 하기 위해서는 입력 데이터를 원-핫 인코딩으로 변환했다. 하지만 원-핫 인코딩을 하면 입력 데이터가 엄청 커진다."
      ],
      "metadata": {
        "id": "XiL5TgjLlceZ"
      }
    },
    {
      "cell_type": "markdown",
      "source": [
        "## 단어 임베딩 사용하기\n",
        "\n",
        "순환 신경망에서 텍스트를 처리할 때 자주 사용하는 방법이다. **단어 임베딩**은 각 단어를 고정된 크기의 실수 벡터로 바꾸어 준다. 이런 단어 임베딩으로 만들어진 벡터는 원-핫 인코딩된 벡터보다 훨씬 의미 있는 값으로 채워져 있으므로 자연어 처리에서 더 좋은 성능을 내는 경우가 많다.\n",
        "\n",
        "단어 임베딩의 장점은 입력으로 정수 데이터를 받는다는 것인데, 즉 원-핫 인코딩으로 변경된 train_oh 배열이 아니라 train_seq를 사용할 수 있다. 이는 메모리 효율성 증대를 가져옴."
      ],
      "metadata": {
        "id": "RvKnTcZ2lmAp"
      }
    },
    {
      "cell_type": "code",
      "source": [
        "model2 = keras.Sequential()\n",
        "model2.add(keras.layers.Embedding(500,16,input_length=100))\n",
        "# Embedding(어휘사전크기, 임베딩벡터크기, 입력시퀀스 길이)\n",
        "model2.add(keras.layers.SimpleRNN(8))\n",
        "model2.add(keras.layers.Dense(1, activation='sigmoid'))"
      ],
      "metadata": {
        "id": "GNh6BOyglliJ"
      },
      "execution_count": 27,
      "outputs": []
    },
    {
      "cell_type": "code",
      "source": [
        "model2.summary()"
      ],
      "metadata": {
        "colab": {
          "base_uri": "https://localhost:8080/"
        },
        "id": "63x3SdhwnTB5",
        "outputId": "33a31b88-f7e1-4a24-bc83-0a27b7ddedfd"
      },
      "execution_count": 28,
      "outputs": [
        {
          "output_type": "stream",
          "name": "stdout",
          "text": [
            "Model: \"sequential_2\"\n",
            "_________________________________________________________________\n",
            " Layer (type)                Output Shape              Param #   \n",
            "=================================================================\n",
            " embedding (Embedding)       (None, 100, 16)           8000      \n",
            "                                                                 \n",
            " simple_rnn_1 (SimpleRNN)    (None, 8)                 200       \n",
            "                                                                 \n",
            " dense_1 (Dense)             (None, 1)                 9         \n",
            "                                                                 \n",
            "=================================================================\n",
            "Total params: 8,209\n",
            "Trainable params: 8,209\n",
            "Non-trainable params: 0\n",
            "_________________________________________________________________\n"
          ]
        }
      ]
    },
    {
      "cell_type": "code",
      "source": [
        "rmsprop = keras.optimizers.RMSprop(learning_rate=1e-4)\n",
        "model2.compile(optimizer=rmsprop, loss='binary_crossentropy', metrics=['accuracy'])\n",
        "checkpoint_cb = keras.callbacks.ModelCheckpoint('best-embedding-model.h5')\n",
        "early_stopping_cb = keras.callbacks.EarlyStopping(patience=3, restore_best_weights=True)\n",
        "history = model2.fit(train_seq, train_target, epochs=100, batch_size=64,\n",
        "                    validation_data=(val_seq, val_target),\n",
        "                    callbacks=[checkpoint_cb, early_stopping_cb])"
      ],
      "metadata": {
        "colab": {
          "base_uri": "https://localhost:8080/"
        },
        "id": "miBtpVPanUnA",
        "outputId": "e38c4037-c886-42e2-87da-60da65ac1944"
      },
      "execution_count": 30,
      "outputs": [
        {
          "output_type": "stream",
          "name": "stdout",
          "text": [
            "Epoch 1/100\n",
            "313/313 [==============================] - 5s 14ms/step - loss: 0.6948 - accuracy: 0.5074 - val_loss: 0.6919 - val_accuracy: 0.5214\n",
            "Epoch 2/100\n",
            "313/313 [==============================] - 4s 13ms/step - loss: 0.6902 - accuracy: 0.5314 - val_loss: 0.6902 - val_accuracy: 0.5358\n",
            "Epoch 3/100\n",
            "313/313 [==============================] - 5s 15ms/step - loss: 0.6866 - accuracy: 0.5517 - val_loss: 0.6888 - val_accuracy: 0.5410\n",
            "Epoch 4/100\n",
            "313/313 [==============================] - 4s 13ms/step - loss: 0.6814 - accuracy: 0.5734 - val_loss: 0.6833 - val_accuracy: 0.5648\n",
            "Epoch 5/100\n",
            "313/313 [==============================] - 5s 15ms/step - loss: 0.6705 - accuracy: 0.6241 - val_loss: 0.6698 - val_accuracy: 0.6224\n",
            "Epoch 6/100\n",
            "313/313 [==============================] - 4s 14ms/step - loss: 0.6531 - accuracy: 0.6819 - val_loss: 0.6533 - val_accuracy: 0.6768\n",
            "Epoch 7/100\n",
            "313/313 [==============================] - 4s 14ms/step - loss: 0.6336 - accuracy: 0.7224 - val_loss: 0.6357 - val_accuracy: 0.7082\n",
            "Epoch 8/100\n",
            "313/313 [==============================] - 4s 14ms/step - loss: 0.6145 - accuracy: 0.7452 - val_loss: 0.6206 - val_accuracy: 0.7212\n",
            "Epoch 9/100\n",
            "313/313 [==============================] - 4s 14ms/step - loss: 0.5962 - accuracy: 0.7601 - val_loss: 0.6037 - val_accuracy: 0.7364\n",
            "Epoch 10/100\n",
            "313/313 [==============================] - 4s 14ms/step - loss: 0.5782 - accuracy: 0.7677 - val_loss: 0.5916 - val_accuracy: 0.7392\n",
            "Epoch 11/100\n",
            "313/313 [==============================] - 4s 14ms/step - loss: 0.5598 - accuracy: 0.7764 - val_loss: 0.5726 - val_accuracy: 0.7546\n",
            "Epoch 12/100\n",
            "313/313 [==============================] - 4s 13ms/step - loss: 0.5424 - accuracy: 0.7832 - val_loss: 0.5573 - val_accuracy: 0.7634\n",
            "Epoch 13/100\n",
            "313/313 [==============================] - 4s 13ms/step - loss: 0.5257 - accuracy: 0.7897 - val_loss: 0.5444 - val_accuracy: 0.7648\n",
            "Epoch 14/100\n",
            "313/313 [==============================] - 4s 13ms/step - loss: 0.5104 - accuracy: 0.7930 - val_loss: 0.5332 - val_accuracy: 0.7670\n",
            "Epoch 15/100\n",
            "313/313 [==============================] - 4s 13ms/step - loss: 0.4956 - accuracy: 0.7988 - val_loss: 0.5228 - val_accuracy: 0.7666\n",
            "Epoch 16/100\n",
            "313/313 [==============================] - 4s 13ms/step - loss: 0.4834 - accuracy: 0.7996 - val_loss: 0.5116 - val_accuracy: 0.7744\n",
            "Epoch 17/100\n",
            "313/313 [==============================] - 4s 13ms/step - loss: 0.4721 - accuracy: 0.8039 - val_loss: 0.5081 - val_accuracy: 0.7676\n",
            "Epoch 18/100\n",
            "313/313 [==============================] - 4s 13ms/step - loss: 0.4633 - accuracy: 0.8058 - val_loss: 0.4975 - val_accuracy: 0.7816\n",
            "Epoch 19/100\n",
            "313/313 [==============================] - 6s 18ms/step - loss: 0.4543 - accuracy: 0.8086 - val_loss: 0.4921 - val_accuracy: 0.7812\n",
            "Epoch 20/100\n",
            "313/313 [==============================] - 5s 14ms/step - loss: 0.4460 - accuracy: 0.8126 - val_loss: 0.4892 - val_accuracy: 0.7788\n",
            "Epoch 21/100\n",
            "313/313 [==============================] - 4s 14ms/step - loss: 0.4394 - accuracy: 0.8146 - val_loss: 0.4912 - val_accuracy: 0.7728\n",
            "Epoch 22/100\n",
            "313/313 [==============================] - 4s 13ms/step - loss: 0.4333 - accuracy: 0.8160 - val_loss: 0.4832 - val_accuracy: 0.7808\n",
            "Epoch 23/100\n",
            "313/313 [==============================] - 4s 14ms/step - loss: 0.4282 - accuracy: 0.8187 - val_loss: 0.4818 - val_accuracy: 0.7792\n",
            "Epoch 24/100\n",
            "313/313 [==============================] - 4s 13ms/step - loss: 0.4232 - accuracy: 0.8225 - val_loss: 0.4797 - val_accuracy: 0.7802\n",
            "Epoch 25/100\n",
            "313/313 [==============================] - 4s 13ms/step - loss: 0.4184 - accuracy: 0.8226 - val_loss: 0.4826 - val_accuracy: 0.7826\n",
            "Epoch 26/100\n",
            "313/313 [==============================] - 4s 13ms/step - loss: 0.4144 - accuracy: 0.8242 - val_loss: 0.4822 - val_accuracy: 0.7794\n",
            "Epoch 27/100\n",
            "313/313 [==============================] - 4s 13ms/step - loss: 0.4113 - accuracy: 0.8260 - val_loss: 0.4768 - val_accuracy: 0.7848\n",
            "Epoch 28/100\n",
            "313/313 [==============================] - 4s 13ms/step - loss: 0.4080 - accuracy: 0.8285 - val_loss: 0.4770 - val_accuracy: 0.7832\n",
            "Epoch 29/100\n",
            "313/313 [==============================] - 4s 13ms/step - loss: 0.4045 - accuracy: 0.8294 - val_loss: 0.4762 - val_accuracy: 0.7870\n",
            "Epoch 30/100\n",
            "313/313 [==============================] - 4s 13ms/step - loss: 0.4015 - accuracy: 0.8305 - val_loss: 0.4778 - val_accuracy: 0.7838\n",
            "Epoch 31/100\n",
            "313/313 [==============================] - 4s 13ms/step - loss: 0.3984 - accuracy: 0.8322 - val_loss: 0.4760 - val_accuracy: 0.7850\n",
            "Epoch 32/100\n",
            "313/313 [==============================] - 4s 13ms/step - loss: 0.3956 - accuracy: 0.8327 - val_loss: 0.4770 - val_accuracy: 0.7826\n",
            "Epoch 33/100\n",
            "313/313 [==============================] - 4s 13ms/step - loss: 0.3932 - accuracy: 0.8336 - val_loss: 0.4782 - val_accuracy: 0.7832\n",
            "Epoch 34/100\n",
            "313/313 [==============================] - 4s 14ms/step - loss: 0.3910 - accuracy: 0.8358 - val_loss: 0.4784 - val_accuracy: 0.7838\n"
          ]
        }
      ]
    },
    {
      "cell_type": "code",
      "source": [
        "plt.plot(history.history['loss'])\n",
        "plt.plot(history.history['val_loss'])\n",
        "plt.xlabel('epoch')\n",
        "plt.ylabel('loss')\n",
        "plt.legend(['train', 'val'])\n",
        "plt.show()"
      ],
      "metadata": {
        "colab": {
          "base_uri": "https://localhost:8080/",
          "height": 279
        },
        "id": "LAr-LUGpnfzg",
        "outputId": "893dc1d5-a6ae-42fb-e56a-24c2a4d6e419"
      },
      "execution_count": 31,
      "outputs": [
        {
          "output_type": "display_data",
          "data": {
            "text/plain": [
              "<Figure size 432x288 with 1 Axes>"
            ],
            "image/png": "[encoded data removed]"
          },
          "metadata": {
            "needs_background": "light"
          }
        }
      ]
    }
  ]
}